{
 "cells": [
  {
   "cell_type": "code",
   "execution_count": 1,
   "id": "237d64d7",
   "metadata": {},
   "outputs": [
    {
     "name": "stdout",
     "output_type": "stream",
     "text": [
      "Hello\n"
     ]
    }
   ],
   "source": [
    "# Comment & Basic Data Types\n",
    "print(\"Hello\") # This is also a comment"
   ]
  },
  {
   "cell_type": "code",
   "execution_count": 2,
   "id": "ac5695b4",
   "metadata": {},
   "outputs": [
    {
     "name": "stdout",
     "output_type": "stream",
     "text": [
      "2\n",
      "10\n"
     ]
    }
   ],
   "source": [
    "#The following are all integers\n",
    "print(2)\n",
    "print(10)"
   ]
  },
  {
   "cell_type": "code",
   "execution_count": 3,
   "id": "44a787f9",
   "metadata": {},
   "outputs": [
    {
     "name": "stdout",
     "output_type": "stream",
     "text": [
      "10.935\n",
      "8.0\n"
     ]
    }
   ],
   "source": [
    "#the following are all floats\n",
    "print(10.935)\n",
    "print(8.0) #even this number is a float"
   ]
  },
  {
   "cell_type": "code",
   "execution_count": 4,
   "id": "c8fb8abd",
   "metadata": {},
   "outputs": [
    {
     "name": "stdout",
     "output_type": "stream",
     "text": [
      "True\n",
      "False\n"
     ]
    }
   ],
   "source": [
    "# the following are booleans\n",
    "print(True)\n",
    "print(False)"
   ]
  },
  {
   "cell_type": "code",
   "execution_count": 7,
   "id": "71681be7",
   "metadata": {},
   "outputs": [
    {
     "name": "stdout",
     "output_type": "stream",
     "text": [
      "\n",
      "There's a snake in my boot!\n",
      "True\n"
     ]
    }
   ],
   "source": [
    "# The following are strings\n",
    "print(\"\")\n",
    "print(\"There's a snake in my boot!\")\n",
    "print('True')"
   ]
  },
  {
   "cell_type": "code",
   "execution_count": 9,
   "id": "7a321cdf",
   "metadata": {},
   "outputs": [
    {
     "name": "stdout",
     "output_type": "stream",
     "text": [
      "5 8.4\n"
     ]
    }
   ],
   "source": [
    "num1 = 5 # storing an integer into a variable\n",
    "num2 = 8.4 # storing a float into a variable\n",
    "print(num1, num2) # you can print multiple items using commas"
   ]
  },
  {
   "cell_type": "code",
   "execution_count": 10,
   "id": "5bec89b6",
   "metadata": {},
   "outputs": [
    {
     "name": "stdout",
     "output_type": "stream",
     "text": [
      "True\n"
     ]
    }
   ],
   "source": [
    "#storing a boolean into a variable\n",
    "switch = True\n",
    "print(switch)"
   ]
  },
  {
   "cell_type": "code",
   "execution_count": 11,
   "id": "fcbf7a28",
   "metadata": {},
   "outputs": [
    {
     "name": "stdout",
     "output_type": "stream",
     "text": [
      "John Smith 9\n"
     ]
    }
   ],
   "source": [
    "# storing strings into a variable\n",
    "name = 'John Smith'\n",
    "fav_number = '9'\n",
    "print(name, fav_number) # will print 9 next to the name"
   ]
  },
  {
   "cell_type": "code",
   "execution_count": 12,
   "id": "20c884d3",
   "metadata": {},
   "outputs": [
    {
     "name": "stdout",
     "output_type": "stream",
     "text": [
      "13.4\n"
     ]
    }
   ],
   "source": [
    "# using two variables to create another variable\n",
    "result = num1 + num2\n",
    "print(result)"
   ]
  },
  {
   "cell_type": "code",
   "execution_count": 16,
   "id": "2c1c6ea7",
   "metadata": {},
   "outputs": [
    {
     "name": "stdout",
     "output_type": "stream",
     "text": [
      "13.4\n",
      "67.0\n"
     ]
    }
   ],
   "source": [
    "# adding, deleting, multiplying, dividing from a variable\n",
    "result += 1 # same as saying result = result +1\n",
    "result -= 1 # same as saying result = result -1 \n",
    "print(result)\n",
    "result *= num1 # same as saying result = result * num1\n",
    "print(result)"
   ]
  },
  {
   "cell_type": "code",
   "execution_count": 15,
   "id": "cf473001",
   "metadata": {},
   "outputs": [
    {
     "name": "stdout",
     "output_type": "stream",
     "text": [
      "John\n",
      "Sam\n"
     ]
    }
   ],
   "source": [
    "# defining a variable and overwriting it's value\n",
    "name = 'John'\n",
    "print(name)\n",
    "name = 'Sam'\n",
    "print(name)"
   ]
  },
  {
   "cell_type": "code",
   "execution_count": 18,
   "id": "f0ea7293",
   "metadata": {},
   "outputs": [
    {
     "name": "stdout",
     "output_type": "stream",
     "text": [
      "John Smith\n"
     ]
    }
   ],
   "source": [
    "#using the additon operator without variables\n",
    "name = \"John\" + \" \" + \"Smith\"\n",
    "print(name)"
   ]
  },
  {
   "cell_type": "code",
   "execution_count": 19,
   "id": "f570205d",
   "metadata": {},
   "outputs": [
    {
     "name": "stdout",
     "output_type": "stream",
     "text": [
      "John Smith\n"
     ]
    }
   ],
   "source": [
    "first_name = \"John\"\n",
    "last_name = \"Smith\"\n",
    "full_name = first_name + \" \" + last_name\n",
    "print(full_name)"
   ]
  },
  {
   "cell_type": "code",
   "execution_count": 20,
   "id": "5c5dc311",
   "metadata": {},
   "outputs": [
    {
     "name": "stdout",
     "output_type": "stream",
     "text": [
      "Hello john\n",
      "Hello john, you are 28 years old! \n"
     ]
    }
   ],
   "source": [
    "name =\"john\"\n",
    "print(\"Hello {}\".format(name))\n",
    "print(\"Hello {}, you are {} years old! \".format(name, 28))"
   ]
  },
  {
   "cell_type": "code",
   "execution_count": 21,
   "id": "f0eddce2",
   "metadata": {},
   "outputs": [
    {
     "name": "stdout",
     "output_type": "stream",
     "text": [
      "H\n",
      "e\n",
      "l\n",
      "o\n",
      "l\n"
     ]
    }
   ],
   "source": [
    "word = \"Hello\"\n",
    "print(word[0]) # will output 'H'\n",
    "print(word[1]) # will ouput 'e'\n",
    "print(word[2]) # will output 'l'\n",
    "print(word[-1])\n",
    "print(word[-2])\n"
   ]
  },
  {
   "cell_type": "code",
   "execution_count": 22,
   "id": "f9bf7ef8",
   "metadata": {},
   "outputs": [
    {
     "name": "stdout",
     "output_type": "stream",
     "text": [
      "reen\n",
      "Green\n",
      "Gen\n"
     ]
    }
   ],
   "source": [
    "word = \"Greenwich\"\n",
    "print(word[1:5])\n",
    "print(word[0:5:1])\n",
    "print(word[0:5:2])"
   ]
  },
  {
   "cell_type": "code",
   "execution_count": 23,
   "id": "ff332eb6",
   "metadata": {},
   "outputs": [
    {
     "name": "stdout",
     "output_type": "stream",
     "text": [
      "John Smith\n",
      "Greenwich University\n"
     ]
    }
   ],
   "source": [
    "#using the title method to capitalize a string\n",
    "name = \"john smith\"\n",
    "print(name.title())\n",
    "schoolname = \"greenwich university\"\n",
    "print(schoolname.title())"
   ]
  },
  {
   "cell_type": "code",
   "execution_count": 27,
   "id": "c9494782",
   "metadata": {},
   "outputs": [
    {
     "name": "stdout",
     "output_type": "stream",
     "text": [
      "Hello there.\n",
      "How are you?\n"
     ]
    }
   ],
   "source": [
    "#replacing an exclamation point with a peiord\n",
    "words = \"Hello there!\"\n",
    "print(word.replace(\"!\", \".\"))\n",
    "greeting = \"How are you.\"\n",
    "print(greeting.replace(\".\", \"?\"))"
   ]
  },
  {
   "cell_type": "code",
   "execution_count": 28,
   "id": "a9d4418e",
   "metadata": {},
   "outputs": [
    {
     "name": "stdout",
     "output_type": "stream",
     "text": [
      "15\n"
     ]
    }
   ],
   "source": [
    "s = \"Look over that way\"\n",
    "print(s.find(\"way\"))"
   ]
  },
  {
   "cell_type": "code",
   "execution_count": 29,
   "id": "950794c5",
   "metadata": {},
   "outputs": [
    {
     "name": "stdout",
     "output_type": "stream",
     "text": [
      "john\n"
     ]
    }
   ],
   "source": [
    "name = \"  john  \"\n",
    "print(name.strip()) # remove the space"
   ]
  },
  {
   "cell_type": "code",
   "execution_count": 30,
   "id": "d45e5b27",
   "metadata": {},
   "outputs": [
    {
     "name": "stdout",
     "output_type": "stream",
     "text": [
      "['These', 'word', 'are', 'separated', 'by', 'spaces']\n",
      "['Greenwich', 'University', 'Danang']\n"
     ]
    }
   ],
   "source": [
    "s = \"These word are separated by spaces\"\n",
    "print(s.split(\" \")) # split the word by space\n",
    "uni = \"Greenwich.University.Danang\"\n",
    "print(uni.split(\".\")) # split the word by dot"
   ]
  },
  {
   "cell_type": "code",
   "execution_count": null,
   "id": "588ad19a",
   "metadata": {},
   "outputs": [],
   "source": []
  }
 ],
 "metadata": {
  "kernelspec": {
   "display_name": "Python 3 (ipykernel)",
   "language": "python",
   "name": "python3"
  },
  "language_info": {
   "codemirror_mode": {
    "name": "ipython",
    "version": 3
   },
   "file_extension": ".py",
   "mimetype": "text/x-python",
   "name": "python",
   "nbconvert_exporter": "python",
   "pygments_lexer": "ipython3",
   "version": "3.9.13"
  }
 },
 "nbformat": 4,
 "nbformat_minor": 5
}
