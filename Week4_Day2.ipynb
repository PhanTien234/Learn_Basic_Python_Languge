{
 "cells": [
  {
   "cell_type": "code",
   "execution_count": 1,
   "id": "1cacf30e",
   "metadata": {},
   "outputs": [
    {
     "name": "stdout",
     "output_type": "stream",
     "text": [
      "<__main__.Car object at 0x000002267E5F6D90>\n",
      "<__main__.Car object at 0x000002267E5F6DC0>\n"
     ]
    }
   ],
   "source": [
    "class Car():\n",
    "    pass\n",
    "\n",
    "ford = Car()\n",
    "print(ford)\n",
    "\n",
    "honda = Car()\n",
    "print(honda)"
   ]
  },
  {
   "cell_type": "code",
   "execution_count": 2,
   "id": "51ed48d5",
   "metadata": {},
   "outputs": [
    {
     "name": "stdout",
     "output_type": "stream",
     "text": [
      "147772015689\n",
      "147772015701\n"
     ]
    }
   ],
   "source": [
    "class Human():\n",
    "    pass\n",
    "\n",
    "john = Human()\n",
    "william = Human()\n",
    "\n",
    "print(hash(john))\n",
    "print(hash(william))"
   ]
  },
  {
   "cell_type": "code",
   "execution_count": 3,
   "id": "fa1bc9eb",
   "metadata": {},
   "outputs": [
    {
     "name": "stdout",
     "output_type": "stream",
     "text": [
      "Vietnam\n",
      "Male\n",
      "US\n",
      "Myanma\n"
     ]
    }
   ],
   "source": [
    "class Human():\n",
    "    nationality = \"Vietnam\"\n",
    "    gender = \"Male\"\n",
    "    \n",
    "john = Human()\n",
    "print(john.nationality)\n",
    "print(john.gender)\n",
    "\n",
    "john.nationality = \"US\"\n",
    "print(john.nationality)\n",
    "\n",
    "phyo = Human()\n",
    "phyo.nationality = \"Myanma\"\n",
    "print(phyo.nationality)"
   ]
  },
  {
   "cell_type": "code",
   "execution_count": 14,
   "id": "05642ce7",
   "metadata": {},
   "outputs": [
    {
     "name": "stdout",
     "output_type": "stream",
     "text": [
      "Vietnam\n",
      "Male\n",
      "U.S\n",
      "Male\n",
      "Myanma\n",
      "Male\n"
     ]
    }
   ],
   "source": [
    "class Human():\n",
    "    def __init__(self,nationality,gender):\n",
    "        self.nationality = nationality\n",
    "        self.gender = gender\n",
    "        \n",
    "john = Human(\"Vietnam\", \"Male\")\n",
    "william = Human(\"U.S\", \"Male\")\n",
    "phyo = Human(\"Myanma\",\"Male\")\n",
    "\n",
    "print(john.nationality)\n",
    "print(john.gender)\n",
    "\n",
    "print(william.nationality)\n",
    "print(william.gender)\n",
    "\n",
    "print(phyo.nationality)\n",
    "print(phyo.gender)"
   ]
  },
  {
   "cell_type": "code",
   "execution_count": 16,
   "id": "1290600b",
   "metadata": {},
   "outputs": [
    {
     "name": "stdout",
     "output_type": "stream",
     "text": [
      "beep\n",
      "orange\n"
     ]
    }
   ],
   "source": [
    "class Car():\n",
    "    sound = \"beep\"\n",
    "    def __init__(self,color):\n",
    "        self.color = color\n",
    "\n",
    "print(Car.sound)\n",
    "\n",
    "ford = Car(\"orange\")\n",
    "print(ford.color)"
   ]
  },
  {
   "cell_type": "code",
   "execution_count": 17,
   "id": "98c96a15",
   "metadata": {},
   "outputs": [
    {
     "name": "stdout",
     "output_type": "stream",
     "text": [
      "bark\n",
      "White\n"
     ]
    }
   ],
   "source": [
    "class Dog():\n",
    "    color = \"White\"\n",
    "    def makeSound(self):\n",
    "        print(\"bark\")\n",
    "        \n",
    "sam = Dog()\n",
    "sam.makeSound()\n",
    "print(sam.color)"
   ]
  },
  {
   "cell_type": "code",
   "execution_count": 21,
   "id": "638f6bbb",
   "metadata": {},
   "outputs": [
    {
     "name": "stdout",
     "output_type": "stream",
     "text": [
      "bark\n",
      "high\n",
      "Whoo!\n",
      "low\n"
     ]
    }
   ],
   "source": [
    "class Dog():\n",
    "    sound = \"bark\"\n",
    "    volume = \"high\"\n",
    "    def makeSound(self):\n",
    "        print(self.sound)\n",
    "        print(self.volume)\n",
    "        \n",
    "sam = Dog()\n",
    "sam.makeSound()\n",
    "\n",
    "sam.sound = \"Whoo!\"\n",
    "sam.volume = \"low\"\n",
    "sam.makeSound()"
   ]
  },
  {
   "cell_type": "code",
   "execution_count": 22,
   "id": "b06646c1",
   "metadata": {},
   "outputs": [
    {
     "name": "stdout",
     "output_type": "stream",
     "text": [
      "This is a dog\n",
      "bark\n",
      "7\n"
     ]
    }
   ],
   "source": [
    "class Dog():\n",
    "    sound = \"bark\"\n",
    "    def makeSound(self):\n",
    "        print(self.sound)\n",
    "        \n",
    "    def printInfo():\n",
    "        print(\"This is a dog\")\n",
    "    def showAge(self,age):\n",
    "        print(age)\n",
    "        \n",
    "Dog.printInfo()\n",
    "\n",
    "sam = Dog()\n",
    "sam.makeSound()\n",
    "sam.showAge(7)"
   ]
  },
  {
   "cell_type": "code",
   "execution_count": 23,
   "id": "3970dcd5",
   "metadata": {},
   "outputs": [
    {
     "name": "stdout",
     "output_type": "stream",
     "text": [
      "Rockey\n"
     ]
    }
   ],
   "source": [
    "class Dog():\n",
    "    name = \"\"\n",
    "    def setName(self, new_name):\n",
    "        self.name = new_name\n",
    "    def getName(self):\n",
    "        return self.name\n",
    "    \n",
    "mydog = Dog()\n",
    "mydog.setName(\"Rockey\")\n",
    "print(mydog.getName())"
   ]
  },
  {
   "cell_type": "code",
   "execution_count": 25,
   "id": "423528b7",
   "metadata": {},
   "outputs": [
    {
     "name": "stdout",
     "output_type": "stream",
     "text": [
      "10\n",
      "it is young\n"
     ]
    }
   ],
   "source": [
    "class Dog():\n",
    "    age = 0\n",
    "    \n",
    "    def setAge(self,its_age):\n",
    "        self.age = its_age\n",
    "    def happyBirthday(self):\n",
    "        self.age +=1\n",
    "        \n",
    "    def getAge(self):\n",
    "        return self.age\n",
    "    def showStatus(self):\n",
    "        if self.getAge()>10:\n",
    "            print(\"it is Old\")\n",
    "        else:\n",
    "            print(\"it is young\")\n",
    "            \n",
    "sam = Dog()\n",
    "sam.setAge(9)\n",
    "sam.happyBirthday()\n",
    "print(sam.getAge())\n",
    "sam.showStatus()\n"
   ]
  },
  {
   "cell_type": "code",
   "execution_count": 26,
   "id": "c5c532a8",
   "metadata": {},
   "outputs": [
    {
     "name": "stdout",
     "output_type": "stream",
     "text": [
      "roar\n",
      "With four legs\n"
     ]
    }
   ],
   "source": [
    "class Animal():\n",
    "    def makeSound(self):\n",
    "        print(\"roar\")\n",
    "\n",
    "class Predator(Animal):\n",
    "    species = \"With four legs\"\n",
    "\n",
    "lion = Predator()\n",
    "lion.makeSound()\n",
    "print(lion.species)"
   ]
  },
  {
   "cell_type": "code",
   "execution_count": 27,
   "id": "63398033",
   "metadata": {},
   "outputs": [
    {
     "name": "stdout",
     "output_type": "stream",
     "text": [
      "Musafa\n",
      "With four legs\n"
     ]
    }
   ],
   "source": [
    "class Animal():\n",
    "    def __init__(self,species):\n",
    "        self.species = species\n",
    "        \n",
    "class Predator(Animal):\n",
    "    def __init__(self,species,name):\n",
    "        self.name = name\n",
    "        super().__init__(species)\n",
    "        \n",
    "lion = Predator(\"With four legs\", \"Musafa\")\n",
    "print(lion.name)\n",
    "print(lion.species)"
   ]
  },
  {
   "cell_type": "code",
   "execution_count": 28,
   "id": "c8ef1e66",
   "metadata": {},
   "outputs": [
    {
     "name": "stdout",
     "output_type": "stream",
     "text": [
      "Phan Minh Tien's hand:\n",
      "\n",
      "2 of Hearts\n",
      "J of Diamonds\n",
      "Dealer's hand:\n",
      "\n",
      "5 of Hearts\n",
      "K of Hearts\n",
      "10 of Clubs\n",
      "The dealer busted, you win!\n"
     ]
    }
   ],
   "source": [
    "from random import randint\n",
    "from IPython.display import clear_output\n",
    "\n",
    "class Blackjack():\n",
    "    def __init__(self):\n",
    "        self.deck = []\n",
    "        self.suits = (\"Spades\", \"Hearts\", \"Diamonds\", \"Clubs\")\n",
    "        self.values = (2, 3, 4, 5, 6, 7, 8, 9, 10, \"J\", \"Q\", \"K\", \"A\")\n",
    "        self.card_values = {\n",
    "            1: 1, 2: 2, 3: 3, 4: 4, 5: 5, 6: 6, 7: 7, 8: 8, 9: 9, 10: 10,\n",
    "            \"J\": 10, \"Q\": 10, \"K\": 10, \"A\": 11\n",
    "        }\n",
    "\n",
    "    def makeDeck(self):\n",
    "        for suit in self.suits:\n",
    "            for value in self.values:\n",
    "                self.deck.append((value, suit))\n",
    "\n",
    "    def pullCard(self):\n",
    "        return self.deck.pop(randint(0, len(self.deck) - 1))\n",
    "\n",
    "class Player():\n",
    "    def __init__(self, name):\n",
    "        self.name = name\n",
    "        self.hand = []\n",
    "\n",
    "    def addCard(self, card):\n",
    "        self.hand.append(card)\n",
    "\n",
    "    def showHand(self, dealer_start=True):\n",
    "        print(\"{}'s hand:\".format(self.name))\n",
    "        print(\"\")\n",
    "        for i in range(len(self.hand)):\n",
    "            if self.name == \"Dealer\" and i == 0 and dealer_start:\n",
    "                print(\"- of -\") # hide first card\n",
    "            else:\n",
    "                card = self.hand[i]\n",
    "                print(\"{} of {}\".format(card[0], card[1]))\n",
    "\n",
    "    def calcHand(self, dealer_start=True):\n",
    "        total = 0\n",
    "        aces = 0\n",
    "        card_values = {2:2, 3:3, 4:4, 5:5, 6:6, 7:7, 8:8, 9:9, 10:10, \"J\":10, \"Q\":10, \"K\":10, \"A\":11}\n",
    "        for card in self.hand:\n",
    "            if self.name == \"Dealer\" and dealer_start:\n",
    "                if card == self.hand[0]:\n",
    "                    continue # hide first card\n",
    "            if card[0] == \"A\":\n",
    "                aces += 1\n",
    "            else:\n",
    "                total += card_values[card[0]]\n",
    "        for i in range(aces):\n",
    "            if total + 11 > 21:\n",
    "                total += 1\n",
    "            else:\n",
    "                total += 11\n",
    "        return total\n",
    "\n",
    "game = Blackjack()\n",
    "game.makeDeck()\n",
    "name = input(\"What is your name?\")\n",
    "player = Player(name)\n",
    "dealer = Player(\"Dealer\")\n",
    "dealer.addCard(game.pullCard())\n",
    "player.addCard(game.pullCard())\n",
    "dealer.addCard(game.pullCard())\n",
    "player.addCard(game.pullCard())\n",
    "player_bust = False\n",
    "\n",
    "while input(\"Would you like to stay or hit?\").lower() != \"stay\":\n",
    "    clear_output()\n",
    "    player.addCard(game.pullCard())\n",
    "    player.showHand()\n",
    "    dealer.showHand()\n",
    "    if player.calcHand() > 21:\n",
    "        player_bust = True\n",
    "        print(\"You lose!\")\n",
    "        break\n",
    "\n",
    "dealer_bust = False\n",
    "\n",
    "if not player_bust:\n",
    "    while dealer.calcHand(False) < 17:\n",
    "        dealer.addCard(game.pullCard())\n",
    "        if dealer.calcHand(False) > 21:\n",
    "            dealer_bust = True\n",
    "            print(\"You win!\")\n",
    "            break\n",
    "\n",
    "clear_output()\n",
    "player.showHand()\n",
    "dealer.showHand(False)\n",
    "\n",
    "if player_bust:\n",
    "    print(\"You busted, better luck next time!\")\n",
    "elif dealer_bust:\n",
    "    print(\"The dealer busted, you win!\")\n",
    "elif dealer.calcHand(False) > player.calcHand():\n",
    "    print(\"Dealer has higher cards, you lose!\")\n",
    "elif dealer.calcHand(False) < player.calcHand():\n",
    "    print(\"You beat the dealer! Congrats!\")\n",
    "else:\n",
    "    print(\"You pushed, no one wins!\")"
   ]
  },
  {
   "cell_type": "code",
   "execution_count": null,
   "id": "6d303240",
   "metadata": {},
   "outputs": [],
   "source": []
  }
 ],
 "metadata": {
  "kernelspec": {
   "display_name": "Python 3 (ipykernel)",
   "language": "python",
   "name": "python3"
  },
  "language_info": {
   "codemirror_mode": {
    "name": "ipython",
    "version": 3
   },
   "file_extension": ".py",
   "mimetype": "text/x-python",
   "name": "python",
   "nbconvert_exporter": "python",
   "pygments_lexer": "ipython3",
   "version": "3.9.13"
  }
 },
 "nbformat": 4,
 "nbformat_minor": 5
}
