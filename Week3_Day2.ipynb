{
 "cells": [
  {
   "cell_type": "code",
   "execution_count": 2,
   "id": "b224bbef",
   "metadata": {},
   "outputs": [
    {
     "name": "stdout",
     "output_type": "stream",
     "text": [
      "Name: John Smith\n",
      "Age: 45\n",
      "Name: John Smith\n",
      "Age: 45\n"
     ]
    }
   ],
   "source": [
    "def printInfo():\n",
    "    print(\"Name: John Smith\")\n",
    "    print(\"Age: 45\")\n",
    "    \n",
    "printInfo()\n",
    "printInfo()"
   ]
  },
  {
   "cell_type": "code",
   "execution_count": 4,
   "id": "87fc22f8",
   "metadata": {},
   "outputs": [
    {
     "name": "stdout",
     "output_type": "stream",
     "text": [
      "15\n"
     ]
    }
   ],
   "source": [
    "def calc():\n",
    "    x, y = 5,10\n",
    "    print(x+y)\n",
    "calc()"
   ]
  },
  {
   "cell_type": "code",
   "execution_count": 5,
   "id": "56a09eef",
   "metadata": {},
   "outputs": [
    {
     "name": "stdout",
     "output_type": "stream",
     "text": [
      "Your name is: John Smith\n",
      "Your name is: Amanda\n"
     ]
    }
   ],
   "source": [
    "def printName(full_name):\n",
    "    print(\"Your name is: {}\".format(full_name))\n",
    "    \n",
    "printName(\"John Smith\")\n",
    "printName(\"Amanda\")"
   ]
  },
  {
   "cell_type": "code",
   "execution_count": 7,
   "id": "4b18546d",
   "metadata": {},
   "outputs": [
    {
     "name": "stdout",
     "output_type": "stream",
     "text": [
      "5 + 8 = 13\n",
      "3.5 + 5.5 = 9.0\n"
     ]
    }
   ],
   "source": [
    "def addNum(num1, num2):\n",
    "    result = num1 + num2\n",
    "    print(\"{} + {} = {}\".format(num1, num2, result))\n",
    "    \n",
    "addNum(5,8)\n",
    "addNum(3.5, 5.5)"
   ]
  },
  {
   "cell_type": "code",
   "execution_count": 9,
   "id": "ce391c1b",
   "metadata": {},
   "outputs": [
    {
     "name": "stdout",
     "output_type": "stream",
     "text": [
      "4\n",
      "16\n",
      "25\n",
      "100\n",
      "1\n",
      "9\n",
      "36\n"
     ]
    }
   ],
   "source": [
    "group1 = [2,4,5,10]\n",
    "group2 = [1,3,6]\n",
    "\n",
    "def squares(nums):\n",
    "    for value in nums:\n",
    "        print(value ** 2)\n",
    "\n",
    "squares(group1)\n",
    "squares(group2)"
   ]
  },
  {
   "cell_type": "code",
   "execution_count": 11,
   "id": "c2059b76",
   "metadata": {},
   "outputs": [
    {
     "name": "stdout",
     "output_type": "stream",
     "text": [
      "Area: 12.56\n"
     ]
    }
   ],
   "source": [
    "def calcArea(r, pi=3.14):\n",
    "    area = pi*(r**2)\n",
    "    print(\"Area: {}\".format(area))\n",
    "\n",
    "calcArea(2)"
   ]
  },
  {
   "cell_type": "code",
   "execution_count": 13,
   "id": "695fd9da",
   "metadata": {},
   "outputs": [
    {
     "name": "stdout",
     "output_type": "stream",
     "text": [
      "Xin Chao! Phyo\n"
     ]
    }
   ],
   "source": [
    "def greeting(name, init=\"Xin Chao!\"):\n",
    "    print(\"{} {}\".format(init,name))\n",
    "    \n",
    "greeting(\"Phyo\")"
   ]
  },
  {
   "cell_type": "code",
   "execution_count": 14,
   "id": "b46d109b",
   "metadata": {},
   "outputs": [
    {
     "name": "stdout",
     "output_type": "stream",
     "text": [
      "John Smith\n",
      "John Paul Smith\n"
     ]
    }
   ],
   "source": [
    "def printName(first,last,middle= \"\"):\n",
    "    if middle:\n",
    "        print(\"{} {} {}\".format(first,middle,last))\n",
    "    else:\n",
    "        print(\"{} {}\".format(first, last))\n",
    "        \n",
    "printName(\"John\",\"Smith\")\n",
    "printName(\"John\", \"Smith\",\"Paul\")"
   ]
  },
  {
   "cell_type": "code",
   "execution_count": 15,
   "id": "fcd6c5ee",
   "metadata": {},
   "outputs": [
    {
     "name": "stdout",
     "output_type": "stream",
     "text": [
      "2.5\n",
      "10\n",
      "89\n"
     ]
    }
   ],
   "source": [
    "def addNums(num1, num2, num3):\n",
    "    print(num2)\n",
    "    print(num1)\n",
    "    print(num3)\n",
    "    \n",
    "addNums(num3 = 89, num1 = 10, num2 =2.5)"
   ]
  },
  {
   "cell_type": "code",
   "execution_count": 16,
   "id": "9cac86b7",
   "metadata": {},
   "outputs": [
    {
     "name": "stdout",
     "output_type": "stream",
     "text": [
      "[5, 10]\n"
     ]
    }
   ],
   "source": [
    "def returnMultiple():\n",
    "    a=5\n",
    "    b=10\n",
    "    return[a,b]\n",
    "\n",
    "print(returnMultiple())"
   ]
  },
  {
   "cell_type": "code",
   "execution_count": 17,
   "id": "5f5ae7ff",
   "metadata": {
    "scrolled": true
   },
   "outputs": [
    {
     "name": "stdout",
     "output_type": "stream",
     "text": [
      "10.0\n",
      "20\n"
     ]
    }
   ],
   "source": [
    "def addNums(num1,num2):\n",
    "    return num1 + num2\n",
    "\n",
    "result = addNums(5.5,4.5)\n",
    "\n",
    "print(result)\n",
    "print(addNums(10,10))"
   ]
  },
  {
   "cell_type": "code",
   "execution_count": 20,
   "id": "c1efd375",
   "metadata": {},
   "outputs": [
    {
     "name": "stdout",
     "output_type": "stream",
     "text": [
      "False\n",
      "True\n"
     ]
    }
   ],
   "source": [
    "def searchList(aList,el):\n",
    "    return True if el in aList else False\n",
    "result = searchList([\"one\",\"two\",\"three\",\"hello\",\"john\"], \"greenwich\")\n",
    "print(result)\n",
    "\n",
    "result = searchList([\"one\",\"two\",\"three\",\"hello\",\"john\"], \"john\")\n",
    "print(result)"
   ]
  },
  {
   "cell_type": "code",
   "execution_count": 23,
   "id": "d8835dd0",
   "metadata": {},
   "outputs": [
    {
     "name": "stdout",
     "output_type": "stream",
     "text": [
      "Before Altering: ['Germany', 'Spain', 'Japan', 'Korean']\n",
      "After Altering: ['Brazil', 'Spain', 'Japan', 'Korean']\n"
     ]
    }
   ],
   "source": [
    "teams = [\"Germany\",\"Spain\",\"Japan\",\"Korean\"]\n",
    "\n",
    "def change(aList):\n",
    "    aList[0] = \"Brazil\"\n",
    "\n",
    "print(\"Before Altering: {}\".format(teams))\n",
    "change(teams)\n",
    "print(\"After Altering: {}\".format(teams))"
   ]
  },
  {
   "cell_type": "code",
   "execution_count": 32,
   "id": "23fd5ec2",
   "metadata": {},
   "outputs": [
    {
     "name": "stdout",
     "output_type": "stream",
     "text": [
      "Here is your cart:\n",
      "- Khanh\n",
      "- Nam\n",
      "Thanks for using our shopping cart program.\n"
     ]
    }
   ],
   "source": [
    "from IPython.display import clear_output\n",
    "cart = []\n",
    "\n",
    "def addItem(item):\n",
    "    clear_output()\n",
    "    cart.append(item)\n",
    "    print(\"{} has been added\".format(item))\n",
    "    \n",
    "def removeItem(item):\n",
    "    clear_output()\n",
    "    try:\n",
    "        cart.remove(item)\n",
    "        print(\"{} has been removed \".format(item))\n",
    "    except:\n",
    "        print(\"Sorry we could not remove that item.\")\n",
    "        \n",
    "def showCart():\n",
    "    clear_output()\n",
    "    if cart:\n",
    "        print(\"Here is your cart:\")\n",
    "        for item in cart:\n",
    "            print(\"- {}\".format(item))\n",
    "    else:\n",
    "        print(\"Your cart is empty.\")\n",
    "        \n",
    "def clearCart():\n",
    "    clear_output()\n",
    "    cart.clear()\n",
    "    print(\"Your cart is empty.\")\n",
    "    \n",
    "def doShopping():\n",
    "    finish_shopping = False\n",
    "    while not finish_shopping:\n",
    "        ans = input(\"Type what you want to do: quit/add/remove/show/clear.\".lower())\n",
    "        if ans ==\"quit\":\n",
    "            showCart()\n",
    "            print(\"Thanks for using our shopping cart program.\")\n",
    "            finish_shopping = True\n",
    "        elif ans ==\"add\":\n",
    "            myitem = input(\"What do you like to add in your cart?\").title()\n",
    "            addItem(myitem)\n",
    "        elif ans == \"remove\":\n",
    "            myitem = input(\"What do you like to remove from your cart?\").title()\n",
    "            removeItem(myitem)\n",
    "        elif ans ==\"show\":\n",
    "            showCart()\n",
    "        elif ans ==\"clear\":\n",
    "            clearCart()\n",
    "        else:\n",
    "            print(\"Sorry that was not an option\")\n",
    "doShopping()"
   ]
  },
  {
   "cell_type": "code",
   "execution_count": null,
   "id": "a376a081",
   "metadata": {},
   "outputs": [],
   "source": []
  }
 ],
 "metadata": {
  "kernelspec": {
   "display_name": "Python 3 (ipykernel)",
   "language": "python",
   "name": "python3"
  },
  "language_info": {
   "codemirror_mode": {
    "name": "ipython",
    "version": 3
   },
   "file_extension": ".py",
   "mimetype": "text/x-python",
   "name": "python",
   "nbconvert_exporter": "python",
   "pygments_lexer": "ipython3",
   "version": "3.9.13"
  }
 },
 "nbformat": 4,
 "nbformat_minor": 5
}
