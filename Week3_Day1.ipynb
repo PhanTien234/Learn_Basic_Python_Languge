{
 "cells": [
  {
   "cell_type": "code",
   "execution_count": 1,
   "id": "e9e66386",
   "metadata": {},
   "outputs": [
    {
     "name": "stdout",
     "output_type": "stream",
     "text": [
      "[5, 10, 15.2, 20]\n"
     ]
    }
   ],
   "source": [
    "nums = [5, 10, 15.2, 20]\n",
    "print(nums)"
   ]
  },
  {
   "cell_type": "code",
   "execution_count": 2,
   "id": "806c9b69",
   "metadata": {},
   "outputs": [
    {
     "name": "stdout",
     "output_type": "stream",
     "text": [
      "10\n",
      "15.2\n"
     ]
    }
   ],
   "source": [
    "print(nums[1])\n",
    "num = nums[2]\n",
    "print(num)"
   ]
  },
  {
   "cell_type": "code",
   "execution_count": 3,
   "id": "bc6794a5",
   "metadata": {},
   "outputs": [
    {
     "name": "stdout",
     "output_type": "stream",
     "text": [
      "[4.3, 'Phyo Min Tun', True]\n"
     ]
    }
   ],
   "source": [
    "num = 4.3\n",
    "myname = \"Phyo Min Tun\"\n",
    "data = [num, myname, True]\n",
    "print(data)"
   ]
  },
  {
   "cell_type": "code",
   "execution_count": 4,
   "id": "55fb4208",
   "metadata": {},
   "outputs": [
    {
     "name": "stdout",
     "output_type": "stream",
     "text": [
      "[5, 'book', [34, 'hello'], True]\n",
      "[34, 'hello']\n",
      "hello\n"
     ]
    }
   ],
   "source": [
    "data = [5, \"book\", [34, \"hello\"], True]\n",
    "print(data)\n",
    "print(data[2])\n",
    "print(data[2][1])"
   ]
  },
  {
   "cell_type": "code",
   "execution_count": 5,
   "id": "c71a5472",
   "metadata": {},
   "outputs": [
    {
     "name": "stdout",
     "output_type": "stream",
     "text": [
      "hello\n"
     ]
    }
   ],
   "source": [
    "inner_list = data[2]\n",
    "print(inner_list[1])"
   ]
  },
  {
   "cell_type": "code",
   "execution_count": 6,
   "id": "467fac63",
   "metadata": {},
   "outputs": [
    {
     "name": "stdout",
     "output_type": "stream",
     "text": [
      "[5, 10, 15, 20]\n",
      "[100, 10, 15, 20]\n"
     ]
    }
   ],
   "source": [
    "data = [5,10,15,20]\n",
    "print(data)\n",
    "data[0] =100\n",
    "print(data)"
   ]
  },
  {
   "cell_type": "code",
   "execution_count": 7,
   "id": "03e3d20a",
   "metadata": {},
   "outputs": [
    {
     "name": "stdout",
     "output_type": "stream",
     "text": [
      "a: [5, 10]\tb: [5, 10]\n",
      "a: [20, 10]\tb: [20, 10]\n"
     ]
    }
   ],
   "source": [
    "a = [5,10]\n",
    "b = a\n",
    "print(\"a: {}\\tb: {}\".format(a,b))\n",
    "\n",
    "a[0]=20\n",
    "print(\"a: {}\\tb: {}\".format(a,b))"
   ]
  },
  {
   "cell_type": "code",
   "execution_count": 8,
   "id": "2be7233c",
   "metadata": {},
   "outputs": [
    {
     "name": "stdout",
     "output_type": "stream",
     "text": [
      "data: [80, 10, 15, 20]\t data_copy: [5, 10, 15, 20]\n"
     ]
    }
   ],
   "source": [
    "data = [5,10,15,20]\n",
    "data_copy = data[:]\n",
    "data[0] = 80\n",
    "print(\"data: {}\\t data_copy: {}\".format(data, data_copy))"
   ]
  },
  {
   "cell_type": "code",
   "execution_count": 9,
   "id": "774e7660",
   "metadata": {},
   "outputs": [
    {
     "name": "stdout",
     "output_type": "stream",
     "text": [
      "Value: 0\n",
      "Value: 1\n",
      "Value: 2\n",
      "Value: 3\n",
      "Value: 4\n"
     ]
    }
   ],
   "source": [
    "for num in range(5):\n",
    "    print(\"Value: {}\".format(num))"
   ]
  },
  {
   "cell_type": "code",
   "execution_count": 10,
   "id": "64be04b0",
   "metadata": {},
   "outputs": [
    {
     "name": "stdout",
     "output_type": "stream",
     "text": [
      "Value: 5\n",
      "Value: 6\n",
      "Value: 7\n",
      "Value: 8\n",
      "Value: 9\n"
     ]
    }
   ],
   "source": [
    "for num in range(5,10):\n",
    "    print(\"Value: {}\".format(num))"
   ]
  },
  {
   "cell_type": "code",
   "execution_count": 11,
   "id": "2cea8cdd",
   "metadata": {},
   "outputs": [
    {
     "name": "stdout",
     "output_type": "stream",
     "text": [
      "Value: 0\n",
      "Value: 2\n",
      "Value: 4\n",
      "Value: 6\n",
      "Value: 8\n"
     ]
    }
   ],
   "source": [
    "for num in range(0,10,2):\n",
    "    print(\"Value: {}\".format(num))"
   ]
  },
  {
   "cell_type": "code",
   "execution_count": 12,
   "id": "6b6bdfa5",
   "metadata": {},
   "outputs": [
    {
     "name": "stdout",
     "output_type": "stream",
     "text": [
      "Letter 1 : U\n",
      "Letter 2 : n\n",
      "Letter 3 : i\n",
      "Letter 4 : v\n",
      "Letter 5 : e\n",
      "Letter 6 : r\n",
      "Letter 7 : s\n",
      "Letter 8 : i\n",
      "Letter 9 : t\n",
      "Letter 10 : y\n",
      "Letter 11 :  \n",
      "Letter 12 : o\n",
      "Letter 13 : f\n",
      "Letter 14 :  \n",
      "Letter 15 : G\n",
      "Letter 16 : r\n",
      "Letter 17 : e\n",
      "Letter 18 : e\n",
      "Letter 19 : n\n",
      "Letter 20 : w\n",
      "Letter 21 : i\n",
      "Letter 22 : c\n",
      "Letter 23 : h\n"
     ]
    }
   ],
   "source": [
    "name = \"University of Greenwich\"\n",
    "i = 0\n",
    "for letter in name:\n",
    "    i+=1\n",
    "    print(\"Letter {} : {}\".format(i,letter))"
   ]
  },
  {
   "cell_type": "code",
   "execution_count": 13,
   "id": "d0939897",
   "metadata": {},
   "outputs": [
    {
     "name": "stdout",
     "output_type": "stream",
     "text": [
      "0\n",
      "1\n",
      "2\n",
      "4\n",
      "0\n",
      "1\n",
      "2\n"
     ]
    }
   ],
   "source": [
    "for num in range(5):\n",
    "    if num == 3:\n",
    "        continue\n",
    "    print(num)\n",
    "    \n",
    "for num in range(5):\n",
    "    if num == 3:\n",
    "        break\n",
    "    print(num)\n",
    "        "
   ]
  },
  {
   "cell_type": "code",
   "execution_count": 14,
   "id": "c925036d",
   "metadata": {},
   "outputs": [
    {
     "name": "stdout",
     "output_type": "stream",
     "text": [
      "10\n",
      "9\n",
      "8\n",
      "7\n",
      "6\n",
      "5\n",
      "4\n",
      "3\n",
      "2\n",
      "1\n"
     ]
    }
   ],
   "source": [
    "health = 10\n",
    "while health > 0:\n",
    "    print(health)\n",
    "    health -=1"
   ]
  },
  {
   "cell_type": "code",
   "execution_count": 15,
   "id": "60d1d99e",
   "metadata": {},
   "outputs": [
    {
     "name": "stdout",
     "output_type": "stream",
     "text": [
      "0 0\n",
      "0 1\n",
      "0 2\n",
      "1 0\n",
      "1 1\n",
      "1 2\n"
     ]
    }
   ],
   "source": [
    "for i in range(2):\n",
    "    for j in range(3):\n",
    "        print(i,j)"
   ]
  },
  {
   "cell_type": "code",
   "execution_count": 16,
   "id": "2a6d4e9d",
   "metadata": {},
   "outputs": [
    {
     "name": "stdout",
     "output_type": "stream",
     "text": [
      "5\n"
     ]
    }
   ],
   "source": [
    "nums = [5,10,15,20,25]\n",
    "length = len(nums)\n",
    "print(length)"
   ]
  },
  {
   "cell_type": "code",
   "execution_count": 17,
   "id": "14fab29c",
   "metadata": {},
   "outputs": [
    {
     "name": "stdout",
     "output_type": "stream",
     "text": [
      "[10, 15, 20, 25]\n",
      "[5, 10, 15, 20]\n",
      "[5, 15, 25]\n",
      "[25]\n"
     ]
    }
   ],
   "source": [
    "print(nums[1:5])\n",
    "print(nums[:4])\n",
    "print(nums[::2])\n",
    "print(nums[-1:])"
   ]
  },
  {
   "cell_type": "code",
   "execution_count": 18,
   "id": "1a8d5086",
   "metadata": {},
   "outputs": [
    {
     "name": "stdout",
     "output_type": "stream",
     "text": [
      "[10, 20, 5]\n",
      "[10, 20, 5, 18]\n"
     ]
    }
   ],
   "source": [
    "nums = [10,20]\n",
    "nums.append(5)\n",
    "print(nums)\n",
    "\n",
    "nums.append(18)\n",
    "print(nums)"
   ]
  },
  {
   "cell_type": "code",
   "execution_count": 19,
   "id": "7134e4b4",
   "metadata": {},
   "outputs": [
    {
     "name": "stdout",
     "output_type": "stream",
     "text": [
      "['glove', 'ball', 'base']\n"
     ]
    }
   ],
   "source": [
    "words = [\"ball\", \"base\"]\n",
    "words.insert(0, \"glove\")\n",
    "print(words)"
   ]
  },
  {
   "cell_type": "code",
   "execution_count": 21,
   "id": "c6c308d8",
   "metadata": {},
   "outputs": [
    {
     "name": "stdout",
     "output_type": "stream",
     "text": [
      "Before remove: ['ring', 'ball', 'book', 'computer'] \n",
      "\n",
      "After remove: ['ring', 'ball', 'computer'] \n",
      "\n"
     ]
    }
   ],
   "source": [
    "items = [\"ring\", \"ball\", \"book\", \"computer\"]\n",
    "print(\"Before remove: {} \\n\".format(items))\n",
    "items.pop(2)\n",
    "print(\"After remove: {} \\n\".format(items))"
   ]
  },
  {
   "cell_type": "code",
   "execution_count": 24,
   "id": "0d0f281a",
   "metadata": {},
   "outputs": [
    {
     "name": "stdout",
     "output_type": "stream",
     "text": [
      "Before remove: ['baseball', 'soccer', 'football', 'hockey'] \n",
      "\n",
      "After remove: ['baseball', 'football', 'hockey'] \n",
      "\n"
     ]
    }
   ],
   "source": [
    "sports = [\"baseball\",\"soccer\", \"football\", \"hockey\"]\n",
    "print(\"Before remove: {} \\n\".format(sports))\n",
    "sports.remove(\"soccer\")\n",
    "print(\"After remove: {} \\n\".format(sports))"
   ]
  },
  {
   "cell_type": "code",
   "execution_count": 25,
   "id": "2b79dcf1",
   "metadata": {},
   "outputs": [
    {
     "name": "stdout",
     "output_type": "stream",
     "text": [
      "3\n",
      "9\n",
      "17\n"
     ]
    }
   ],
   "source": [
    "nums = [5,3,9]\n",
    "print(min(nums))\n",
    "print(max(nums))\n",
    "print(sum(nums))"
   ]
  },
  {
   "cell_type": "code",
   "execution_count": 27,
   "id": "11141856",
   "metadata": {},
   "outputs": [
    {
     "name": "stdout",
     "output_type": "stream",
     "text": [
      "After sorting: [0, 2, 5, 8]\n"
     ]
    }
   ],
   "source": [
    "nums = [5, 8,0,2]\n",
    "sorted_nums = sorted(nums)\n",
    "print(\"After sorting: {}\".format(sorted_nums))"
   ]
  },
  {
   "cell_type": "code",
   "execution_count": 32,
   "id": "047c783d",
   "metadata": {},
   "outputs": [
    {
     "name": "stdout",
     "output_type": "stream",
     "text": [
      "After soring: [0, 2, 5, 8]\n"
     ]
    }
   ],
   "source": [
    "nums = [5,8,0,2]\n",
    "nums.sort()\n",
    "print(\"After soring: {}\".format(nums))"
   ]
  },
  {
   "cell_type": "code",
   "execution_count": 33,
   "id": "5dc50595",
   "metadata": {},
   "outputs": [
    {
     "name": "stdout",
     "output_type": "stream",
     "text": [
      "found\n",
      "not found\n"
     ]
    }
   ],
   "source": [
    "names = [\"Jack\",  \"Robbert\", \"Mary\"]\n",
    "if \"Mary\" in names:\n",
    "    print(\"found\")\n",
    "    \n",
    "if \"Jimmy\" not in names:\n",
    "    print(\"not found\")"
   ]
  },
  {
   "cell_type": "code",
   "execution_count": 46,
   "id": "f7be0195",
   "metadata": {},
   "outputs": [
    {
     "name": "stdout",
     "output_type": "stream",
     "text": [
      "It is empty.\n"
     ]
    }
   ],
   "source": [
    "num = []\n",
    "if not num:\n",
    "\tprint(\"It is empty.\")"
   ]
  },
  {
   "cell_type": "code",
   "execution_count": 44,
   "id": "bea9624f",
   "metadata": {},
   "outputs": [
    {
     "name": "stdout",
     "output_type": "stream",
     "text": [
      "Baseball\n",
      "Hockey\n",
      "Football\n",
      "Basketball\n"
     ]
    }
   ],
   "source": [
    "sports = [\"Baseball\",\"Hockey\", \"Football\", \"Basketball\"]\n",
    "for names in sports:\n",
    "    print(names)"
   ]
  },
  {
   "cell_type": "code",
   "execution_count": 47,
   "id": "f3857448",
   "metadata": {},
   "outputs": [
    {
     "name": "stdout",
     "output_type": "stream",
     "text": [
      "['Jack', 'Rob', 'Robert']\n"
     ]
    }
   ],
   "source": [
    "names = [\"Bob\", \"Jack\", \"Rob\", \"Bob\", \"Robert\"]\n",
    "\n",
    "while \"Bob\" in names:\n",
    "    names.remove(\"Bob\")\n",
    "    \n",
    "print(names)"
   ]
  },
  {
   "cell_type": "code",
   "execution_count": 50,
   "id": "44c054ed",
   "metadata": {},
   "outputs": [
    {
     "name": "stdout",
     "output_type": "stream",
     "text": [
      "Thanks for playing.\n"
     ]
    }
   ],
   "source": [
    "from random import choice\n",
    "from IPython.display import clear_output\n",
    "\n",
    "words = [\"tree\", \"basket\", \"chair\", \"paper\", \"python\"]\n",
    "word = choice(words)\n",
    "guessed, lives, game_over = [], 7, False\n",
    "\n",
    "guesses = [\"_\"]*len(word)\n",
    "\n",
    "while not game_over:\n",
    "    hidden_word = \"\".join(guesses)\n",
    "    print(\"Word to guess: {}\".format(hidden_word))\n",
    "    print(\"Lives: {}\".format(lives))\n",
    "    \n",
    "    ans = input(\"Type quit or guess a letter: \").lower()\n",
    "    \n",
    "    clear_output()\n",
    "    \n",
    "    if ans == \"quit\":\n",
    "        print(\"Thanks for playing.\")\n",
    "        game_over = True\n",
    "    elif ans in word:\n",
    "        print(\"You guessed correctly!\")\n",
    "    else:\n",
    "        lives -= 1\n",
    "        print(\"Incorrect, you lost a life.\")\n",
    "        if lives <= 0:\n",
    "            print(\"You lost all your lives, you lost!\")\n",
    "            game_over = True"
   ]
  },
  {
   "cell_type": "code",
   "execution_count": null,
   "id": "7947c4dd",
   "metadata": {},
   "outputs": [],
   "source": []
  }
 ],
 "metadata": {
  "kernelspec": {
   "display_name": "Python 3 (ipykernel)",
   "language": "python",
   "name": "python3"
  },
  "language_info": {
   "codemirror_mode": {
    "name": "ipython",
    "version": 3
   },
   "file_extension": ".py",
   "mimetype": "text/x-python",
   "name": "python",
   "nbconvert_exporter": "python",
   "pygments_lexer": "ipython3",
   "version": "3.9.13"
  }
 },
 "nbformat": 4,
 "nbformat_minor": 5
}
