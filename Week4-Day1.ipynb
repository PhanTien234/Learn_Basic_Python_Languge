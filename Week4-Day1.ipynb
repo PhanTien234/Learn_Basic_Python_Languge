{
 "cells": [
  {
   "cell_type": "code",
   "execution_count": 3,
   "id": "6bb6fd7a",
   "metadata": {},
   "outputs": [
    {
     "name": "stdout",
     "output_type": "stream",
     "text": [
      "{}\n",
      "{'name': 'John Smith'}\n",
      "{'name': 'Morty', 'age': 26, 'email': 'phy@fe.edu.vn'}\n",
      "John Smith\n",
      "John Smith\n",
      "26\n",
      "phy@fe.edu.vn\n",
      "John Smith\n",
      "John Smith\n",
      "phy@fe.edu.vn\n",
      "Address is not available\n"
     ]
    }
   ],
   "source": [
    "empty = {}\n",
    "person = {\"name\": \"John Smith\"}\n",
    "customer = {\"name\": \"Morty\",\"age\":26,\"email\":\"phy@fe.edu.vn\"}\n",
    "\n",
    "print(empty)\n",
    "print(person)\n",
    "print(customer)\n",
    "\n",
    "print(person[\"name\"])\n",
    "print(person[\"name\"])\n",
    "print(customer[\"age\"])\n",
    "print(customer[\"email\"])\n",
    "\n",
    "print(person.get(\"name\"))\n",
    "print(person.get(\"name\",\"Age is not available\"))\n",
    "print(customer.get(\"email\"))\n",
    "print(customer.get(\"address\",\"Address is not available\"))"
   ]
  },
  {
   "cell_type": "code",
   "execution_count": 6,
   "id": "e69f8d48",
   "metadata": {},
   "outputs": [
    {
     "name": "stdout",
     "output_type": "stream",
     "text": [
      "baseball\n",
      "Vietnam\n"
     ]
    }
   ],
   "source": [
    "data = {\"sports\":[\"baseball\",\"football\",\"hockey\",\"soccer\"]}\n",
    "print(data[\"sports\"][0])\n",
    "\n",
    "data = {\"sports\":[\"baseball\",\"football\",\"hockey\",\"soccer\"],\"country\":[\"Vietnam\",\"Japan\",\"Thai\"]}\n",
    "print(data[\"country\"][0])"
   ]
  },
  {
   "cell_type": "code",
   "execution_count": 8,
   "id": "0c54f218",
   "metadata": {},
   "outputs": [
    {
     "name": "stdout",
     "output_type": "stream",
     "text": [
      "{'name': 'Kristen', 'country': 'USA'}\n",
      "Dennis\n",
      "USA\n"
     ]
    }
   ],
   "source": [
    "data = [{\"name\":\"John\"},{\"name\":\"Dennis\"},{\"name\":\"Kristen\",\"country\": \"USA\"}]\n",
    "print(data[2])\n",
    "print(data[1][\"name\"])\n",
    "print(data[2][\"country\"])"
   ]
  },
  {
   "cell_type": "code",
   "execution_count": 11,
   "id": "1e48fd40",
   "metadata": {},
   "outputs": [
    {
     "name": "stdout",
     "output_type": "stream",
     "text": [
      "{'2018': 108, '2017': 93}\n",
      "108\n"
     ]
    }
   ],
   "source": [
    "data ={\n",
    "\"team\":\"Boston Red Sox\",\n",
    " \"wins\": {\"2018\":108,\"2017\":93}\n",
    "}\n",
    "\n",
    "print(data[\"wins\"])\n",
    "print(data[\"wins\"][\"2018\"])"
   ]
  },
  {
   "cell_type": "code",
   "execution_count": 12,
   "id": "0840e30e",
   "metadata": {},
   "outputs": [
    {
     "name": "stdout",
     "output_type": "stream",
     "text": [
      "{'year': 2018}\n",
      "{'year': 2018, 'color': 'Blue'}\n",
      "Year: 2018 \tColor: Blue \tType: Honda\n",
      "Year: 2018 \tColor: Red \tType: Honda\n",
      "{'year': 2018, 'color': 'Red'}\n"
     ]
    }
   ],
   "source": [
    "car = {\"year\":2018}\n",
    "print(car)\n",
    "car[\"color\"]=\"Blue\"\n",
    "print(car)\n",
    "car[\"type\"] =\"Honda\"\n",
    "print(\"Year: {} \\tColor: {} \\tType: {}\".format(car[\"year\"],car[\"color\"],car[\"type\"]))\n",
    "\n",
    "car[\"color\"] = \"Red\"\n",
    "print(\"Year: {} \\tColor: {} \\tType: {}\".format(car[\"year\"],car[\"color\"],car[\"type\"]))\n",
    "\n",
    "del car[\"type\"]\n",
    "print(car)"
   ]
  },
  {
   "cell_type": "code",
   "execution_count": 13,
   "id": "e46a3e68",
   "metadata": {},
   "outputs": [
    {
     "name": "stdout",
     "output_type": "stream",
     "text": [
      "name\n",
      "age\n",
      "email\n",
      "John\n",
      "26\n",
      "john@fpt.edu.vn\n",
      "name>> John\n",
      "age>> 26\n",
      "email>> john@fpt.edu.vn\n"
     ]
    }
   ],
   "source": [
    "person = {\"name\":\"John\",\"age\":26,\"email\":\"john@fpt.edu.vn\"}\n",
    "for result in person.keys():\n",
    "    print(result)\n",
    "    \n",
    "for result in person.values():\n",
    "    print(result)\n",
    "    \n",
    "for mykey,myvalue in person.items():\n",
    "    print(\"{}>> {}\".format(mykey,myvalue))"
   ]
  },
  {
   "cell_type": "code",
   "execution_count": 14,
   "id": "4772d4fe",
   "metadata": {},
   "outputs": [
    {
     "name": "stdout",
     "output_type": "stream",
     "text": [
      "{'Monitor', 'Computer', 'Bread', 'Orange', 'Apple'}\n",
      "{'Monitor', 'Bread', 'Orange', 'Apple'}\n",
      "{'Monitor', 'Bread', 'Orange', 'Apple'}\n",
      "{'Computer', 'Orange', 'Apple'}\n"
     ]
    }
   ],
   "source": [
    "mydata = set([\"Apple\", \"Computer\",\"Orange\",\"Monitor\"])\n",
    "\n",
    "mydata.add(\"Bread\")\n",
    "print(mydata)\n",
    "\n",
    "mydata.remove(\"Computer\")\n",
    "print(mydata)\n",
    "\n",
    "mydata.add(\"Bread\")\n",
    "print(mydata)\n",
    "\n",
    "mydata = set([\"Apple\",\"Computer\",\"Orange\",\"Apple\"])\n",
    "print(mydata)"
   ]
  },
  {
   "cell_type": "code",
   "execution_count": 15,
   "id": "dc4e98b3",
   "metadata": {},
   "outputs": [
    {
     "name": "stdout",
     "output_type": "stream",
     "text": [
      "this is a test\n"
     ]
    }
   ],
   "source": [
    "f = open(\"421.txt\",\"w+\")\n",
    "f.write(\"this is a test\")\n",
    "f.close()\n",
    "f = open(\"421.txt\",\"r\")\n",
    "data = f.read()\n",
    "f.close()\n",
    "print(data)"
   ]
  },
  {
   "cell_type": "code",
   "execution_count": 16,
   "id": "a98316f6",
   "metadata": {},
   "outputs": [],
   "source": [
    "import csv\n",
    "with open(\"421.csv\",mode =\"w\",newline=\"\") as f:\n",
    "    writer = csv.writer(f,delimiter=\",\")\n",
    "    writer.writerow([\"Name\",\"City\"])\n",
    "    writer.writerow([\"Craig Lou\",\"Taiwan\"])"
   ]
  },
  {
   "cell_type": "code",
   "execution_count": 18,
   "id": "ed0e9b43",
   "metadata": {},
   "outputs": [
    {
     "name": "stdout",
     "output_type": "stream",
     "text": [
      "['Name', 'City']\n",
      "['Craig Lou', 'Taiwan']\n"
     ]
    }
   ],
   "source": [
    "with open(\"421.csv\", mode=\"r\") as f:\n",
    "    reader = csv.reader(f,delimiter=\",\")\n",
    "    for row in reader:\n",
    "        print(row)"
   ]
  },
  {
   "cell_type": "code",
   "execution_count": null,
   "id": "48d3cf79",
   "metadata": {},
   "outputs": [
    {
     "name": "stdout",
     "output_type": "stream",
     "text": [
      "You are now logged in!\n",
      "1.Logout\n",
      "2.Quit\n"
     ]
    }
   ],
   "source": [
    "import csv\n",
    "from IPython.display import clear_output\n",
    "\n",
    "def registerUser():\n",
    "    with open(\"users.csv\", mode=\"a\", newline=\"\")as f:\n",
    "        writer = csv.writer(f,delimiter=\",\")\n",
    "        print(\"To register, please enter your info:\")\n",
    "        email = input(\"E-mail: \")\n",
    "        password = input(\"Password\")\n",
    "        password2 = input(\"Re-type password: \")\n",
    "        clear_output()\n",
    "        if password == password2:\n",
    "            writer.writerow([email,password])\n",
    "            print(\"You are now registered!\")\n",
    "        else:\n",
    "            print(\"Something went wrong.Try again\")\n",
    "            \n",
    "def loginUser():\n",
    "    print(\"To login, please enter your info:\")\n",
    "    email = input(\"E-mail:\")\n",
    "    password = input(\"Password:\")\n",
    "    clear_output()\n",
    "    with open(\"users.csv\",mode=\"r\") as f:\n",
    "        reader =csv.reader(f,delimiter=\",\")\n",
    "        for row in reader:\n",
    "            if row == [email,password]:\n",
    "                print(\"You are now logged in!\")\n",
    "                return True\n",
    "    print(\"Somethong went wrong, try again.\")\n",
    "    return False\n",
    "\n",
    "active = True\n",
    "logged_in = False\n",
    "\n",
    "while active:\n",
    "    if logged_in:\n",
    "        print(\"1.Logout\\n2.Quit\")\n",
    "    else:\n",
    "        print(\"1.Login\\n2.Register\\n3.Quit\")\n",
    "        \n",
    "    choice = input(\"What would you like to do?\").lower()\n",
    "    clear_output()\n",
    "    \n",
    "    if choice == \"register\" and logged_in == False:\n",
    "        registerUser()\n",
    "    elif choice == \"login\" and logged_in == False:\n",
    "        logged_in = loginUser()\n",
    "    elif choice == \"quit\":\n",
    "        active = False\n",
    "        print(\"Thanks for using our software!\")\n",
    "    elif choice ==\"logout\" and logged_in == True:\n",
    "        logged_in = False\n",
    "        print(\"You are now logged out.\")\n",
    "    else:\n",
    "        print(\"Sorry, please try again\")"
   ]
  },
  {
   "cell_type": "code",
   "execution_count": null,
   "id": "00c3df62",
   "metadata": {},
   "outputs": [],
   "source": []
  }
 ],
 "metadata": {
  "kernelspec": {
   "display_name": "Python 3 (ipykernel)",
   "language": "python",
   "name": "python3"
  },
  "language_info": {
   "codemirror_mode": {
    "name": "ipython",
    "version": 3
   },
   "file_extension": ".py",
   "mimetype": "text/x-python",
   "name": "python",
   "nbconvert_exporter": "python",
   "pygments_lexer": "ipython3",
   "version": "3.9.13"
  }
 },
 "nbformat": 4,
 "nbformat_minor": 5
}
