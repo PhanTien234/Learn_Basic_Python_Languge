{
 "cells": [
  {
   "cell_type": "code",
   "execution_count": 1,
   "id": "16ef07ea",
   "metadata": {},
   "outputs": [
    {
     "name": "stdout",
     "output_type": "stream",
     "text": [
      "What is your name?Tien\n",
      "Hello Tien!\n"
     ]
    }
   ],
   "source": [
    "ans = input(\"What is your name?\")\n",
    "print(\"Hello {}!\".format(ans))"
   ]
  },
  {
   "cell_type": "code",
   "execution_count": 2,
   "id": "3548ebc0",
   "metadata": {},
   "outputs": [
    {
     "name": "stdout",
     "output_type": "stream",
     "text": [
      "<class 'int'>\n",
      "<class 'str'>\n",
      "<class 'str'>\n"
     ]
    }
   ],
   "source": [
    "num = 5\n",
    "mystr = \"Greenwich\"\n",
    "xstr = \"10\"\n",
    "print(type(num))\n",
    "print(type(mystr))\n",
    "print(type(xstr))"
   ]
  },
  {
   "cell_type": "code",
   "execution_count": 3,
   "id": "5cd2fb9b",
   "metadata": {},
   "outputs": [
    {
     "name": "stdout",
     "output_type": "stream",
     "text": [
      "<class 'int'>\n"
     ]
    }
   ],
   "source": [
    "num = \"9\"\n",
    "num = int(num)\n",
    "print(type(num))"
   ]
  },
  {
   "cell_type": "code",
   "execution_count": 4,
   "id": "a1952eb3",
   "metadata": {},
   "outputs": [
    {
     "name": "stdout",
     "output_type": "stream",
     "text": [
      "Type a number to add: 12\n",
      "<class 'str'>\n",
      "100 + 12 = 112\n"
     ]
    }
   ],
   "source": [
    "ans = input(\"Type a number to add: \")\n",
    "print(type(ans))\n",
    "result = 100 + int(ans)\n",
    "print(\"100 + {} = {}\".format(ans,result))"
   ]
  },
  {
   "cell_type": "code",
   "execution_count": 5,
   "id": "faa6af59",
   "metadata": {},
   "outputs": [
    {
     "name": "stdout",
     "output_type": "stream",
     "text": [
      "Type a number to add: gvhsghs\n",
      "You did not put in a valid number!\n"
     ]
    }
   ],
   "source": [
    "try:\n",
    "    ans = float(input(\"Type a number to add: \"))\n",
    "    print(\"100 + {} = {}\".format(ans,100 + ans))\n",
    "except:\n",
    "    print(\"You did not put in a valid number!\")"
   ]
  },
  {
   "cell_type": "code",
   "execution_count": 6,
   "id": "5faaef9a",
   "metadata": {},
   "outputs": [
    {
     "name": "stdout",
     "output_type": "stream",
     "text": [
      "x is less than y\n"
     ]
    }
   ],
   "source": [
    "x,y = 5, 10\n",
    "if x < y:\n",
    "    print(\"x is less than y\")"
   ]
  },
  {
   "cell_type": "code",
   "execution_count": 7,
   "id": "d5430278",
   "metadata": {},
   "outputs": [
    {
     "name": "stdout",
     "output_type": "stream",
     "text": [
      "What is 5 + 5?10\n",
      "You got it right!\n"
     ]
    }
   ],
   "source": [
    "ans = int(input(\"What is 5 + 5?\"))\n",
    "if ans == 10:\n",
    "    print(\"You got it right!\")"
   ]
  },
  {
   "cell_type": "code",
   "execution_count": 8,
   "id": "5d33b794",
   "metadata": {},
   "outputs": [
    {
     "name": "stdout",
     "output_type": "stream",
     "text": [
      "Both statement were true\n"
     ]
    }
   ],
   "source": [
    "x,y,z = 5, 10, 5\n",
    "if x <y and x == z:\n",
    "    print(\"Both statement were true\")"
   ]
  },
  {
   "cell_type": "code",
   "execution_count": 9,
   "id": "97a0678f",
   "metadata": {},
   "outputs": [
    {
     "name": "stdout",
     "output_type": "stream",
     "text": [
      "One or both statements were true\n"
     ]
    }
   ],
   "source": [
    "x, y, z = 5,10, 5\n",
    "if x < y or x!= z:\n",
    "    print(\"One or both statements were true\")"
   ]
  },
  {
   "cell_type": "code",
   "execution_count": 10,
   "id": "6c0efb63",
   "metadata": {},
   "outputs": [
    {
     "name": "stdout",
     "output_type": "stream",
     "text": [
      "Flag is False\n"
     ]
    }
   ],
   "source": [
    "flag = False\n",
    "if not flag: \n",
    "    print(\"Flag is False\")"
   ]
  },
  {
   "cell_type": "code",
   "execution_count": 11,
   "id": "0ebb74fb",
   "metadata": {},
   "outputs": [
    {
     "name": "stdout",
     "output_type": "stream",
     "text": [
      "Baseball contains the character e\n"
     ]
    }
   ],
   "source": [
    "word = \"Baseball\"\n",
    "if \"e\" in word:\n",
    "    print(\"{} contains the character e\".format(word))"
   ]
  },
  {
   "cell_type": "code",
   "execution_count": 14,
   "id": "63c69b9f",
   "metadata": {},
   "outputs": [],
   "source": [
    "word = \"Baseball\"\n",
    "if \"x\" in word:\n",
    "    print(\"{} does not contains the character e\".format(word))"
   ]
  },
  {
   "cell_type": "code",
   "execution_count": null,
   "id": "0096b8ea",
   "metadata": {},
   "outputs": [],
   "source": []
  }
 ],
 "metadata": {
  "kernelspec": {
   "display_name": "Python 3 (ipykernel)",
   "language": "python",
   "name": "python3"
  },
  "language_info": {
   "codemirror_mode": {
    "name": "ipython",
    "version": 3
   },
   "file_extension": ".py",
   "mimetype": "text/x-python",
   "name": "python",
   "nbconvert_exporter": "python",
   "pygments_lexer": "ipython3",
   "version": "3.9.13"
  }
 },
 "nbformat": 4,
 "nbformat_minor": 5
}
