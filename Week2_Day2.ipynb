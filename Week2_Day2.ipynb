{
 "cells": [
  {
   "cell_type": "code",
   "execution_count": 1,
   "id": "16ef07ea",
   "metadata": {},
   "outputs": [
    {
     "name": "stdout",
     "output_type": "stream",
     "text": [
      "What is your name?Tien\n",
      "Hello Tien!\n"
     ]
    }
   ],
   "source": [
    "ans = input(\"What is your name?\")\n",
    "print(\"Hello {}!\".format(ans))"
   ]
  },
  {
   "cell_type": "code",
   "execution_count": 2,
   "id": "3548ebc0",
   "metadata": {},
   "outputs": [
    {
     "name": "stdout",
     "output_type": "stream",
     "text": [
      "<class 'int'>\n",
      "<class 'str'>\n",
      "<class 'str'>\n"
     ]
    }
   ],
   "source": [
    "num = 5\n",
    "mystr = \"Greenwich\"\n",
    "xstr = \"10\"\n",
    "print(type(num))\n",
    "print(type(mystr))\n",
    "print(type(xstr))"
   ]
  },
  {
   "cell_type": "code",
   "execution_count": 3,
   "id": "5cd2fb9b",
   "metadata": {},
   "outputs": [
    {
     "name": "stdout",
     "output_type": "stream",
     "text": [
      "<class 'int'>\n"
     ]
    }
   ],
   "source": [
    "num = \"9\"\n",
    "num = int(num)\n",
    "print(type(num))"
   ]
  },
  {
   "cell_type": "code",
   "execution_count": 4,
   "id": "a1952eb3",
   "metadata": {},
   "outputs": [
    {
     "name": "stdout",
     "output_type": "stream",
     "text": [
      "Type a number to add: 12\n",
      "<class 'str'>\n",
      "100 + 12 = 112\n"
     ]
    }
   ],
   "source": [
    "ans = input(\"Type a number to add: \")\n",
    "print(type(ans))\n",
    "result = 100 + int(ans)\n",
    "print(\"100 + {} = {}\".format(ans,result))"
   ]
  },
  {
   "cell_type": "code",
   "execution_count": 5,
   "id": "faa6af59",
   "metadata": {},
   "outputs": [
    {
     "name": "stdout",
     "output_type": "stream",
     "text": [
      "Type a number to add: gvhsghs\n",
      "You did not put in a valid number!\n"
     ]
    }
   ],
   "source": [
    "try:\n",
    "    ans = float(input(\"Type a number to add: \"))\n",
    "    print(\"100 + {} = {}\".format(ans,100 + ans))\n",
    "except:\n",
    "    print(\"You did not put in a valid number!\")"
   ]
  },
  {
   "cell_type": "code",
   "execution_count": 6,
   "id": "5faaef9a",
   "metadata": {},
   "outputs": [
    {
     "name": "stdout",
     "output_type": "stream",
     "text": [
      "x is less than y\n"
     ]
    }
   ],
   "source": [
    "x,y = 5, 10\n",
    "if x < y:\n",
    "    print(\"x is less than y\")"
   ]
  },
  {
   "cell_type": "code",
   "execution_count": 7,
   "id": "d5430278",
   "metadata": {},
   "outputs": [
    {
     "name": "stdout",
     "output_type": "stream",
     "text": [
      "What is 5 + 5?10\n",
      "You got it right!\n"
     ]
    }
   ],
   "source": [
    "ans = int(input(\"What is 5 + 5?\"))\n",
    "if ans == 10:\n",
    "    print(\"You got it right!\")"
   ]
  },
  {
   "cell_type": "code",
   "execution_count": 8,
   "id": "5d33b794",
   "metadata": {},
   "outputs": [
    {
     "name": "stdout",
     "output_type": "stream",
     "text": [
      "Both statement were true\n"
     ]
    }
   ],
   "source": [
    "x,y,z = 5, 10, 5\n",
    "if x <y and x == z:\n",
    "    print(\"Both statement were true\")"
   ]
  },
  {
   "cell_type": "code",
   "execution_count": 9,
   "id": "97a0678f",
   "metadata": {},
   "outputs": [
    {
     "name": "stdout",
     "output_type": "stream",
     "text": [
      "One or both statements were true\n"
     ]
    }
   ],
   "source": [
    "x, y, z = 5,10, 5\n",
    "if x < y or x!= z:\n",
    "    print(\"One or both statements were true\")"
   ]
  },
  {
   "cell_type": "code",
   "execution_count": 10,
   "id": "6c0efb63",
   "metadata": {},
   "outputs": [
    {
     "name": "stdout",
     "output_type": "stream",
     "text": [
      "Flag is False\n"
     ]
    }
   ],
   "source": [
    "flag = False\n",
    "if not flag: \n",
    "    print(\"Flag is False\")"
   ]
  },
  {
   "cell_type": "code",
   "execution_count": 11,
   "id": "0ebb74fb",
   "metadata": {},
   "outputs": [
    {
     "name": "stdout",
     "output_type": "stream",
     "text": [
      "Baseball contains the character e\n"
     ]
    }
   ],
   "source": [
    "word = \"Baseball\"\n",
    "if \"e\" in word:\n",
    "    print(\"{} contains the character e\".format(word))"
   ]
  },
  {
   "cell_type": "code",
   "execution_count": 15,
   "id": "63c69b9f",
   "metadata": {},
   "outputs": [],
   "source": [
    "word = \"Baseball\"\n",
    "if \"x\" in word:\n",
    "    print(\"{} does not contains the character x\".format(word))"
   ]
  },
  {
   "cell_type": "code",
   "execution_count": 16,
   "id": "0096b8ea",
   "metadata": {},
   "outputs": [
    {
     "name": "stdout",
     "output_type": "stream",
     "text": [
      "x is less\n"
     ]
    }
   ],
   "source": [
    "x,y = 5,10\n",
    "if x>y:\n",
    "    print(\"x is greater\")\n",
    "elif x <y:\n",
    "    print(\"x is less\")"
   ]
  },
  {
   "cell_type": "code",
   "execution_count": 17,
   "id": "310e7088",
   "metadata": {},
   "outputs": [
    {
     "name": "stdout",
     "output_type": "stream",
     "text": [
      "equal\n"
     ]
    }
   ],
   "source": [
    "x ,y = 5,10\n",
    "if x >y:\n",
    "    print(\"x is greater\")\n",
    "elif (x+10) < y:\n",
    "    print(\"x is less\")\n",
    "elif(x +5) == y:\n",
    "    print(\"equal\")"
   ]
  },
  {
   "cell_type": "code",
   "execution_count": 18,
   "id": "4e307eed",
   "metadata": {},
   "outputs": [
    {
     "name": "stdout",
     "output_type": "stream",
     "text": [
      "x is equal to z\n"
     ]
    }
   ],
   "source": [
    "x, y, z = 5, 10, 5\n",
    "if x >y:\n",
    "    print(\"greater\")\n",
    "elif x <= y:\n",
    "    if x == z:\n",
    "        print(\"x is equal to z\")\n",
    "    elif x !=z:\n",
    "        print(\"x is not equal to z\")"
   ]
  },
  {
   "cell_type": "code",
   "execution_count": 19,
   "id": "7e02998e",
   "metadata": {},
   "outputs": [
    {
     "name": "stdout",
     "output_type": "stream",
     "text": [
      "Hello John!\n"
     ]
    }
   ],
   "source": [
    "name = \"John\"\n",
    "if name == \"Jacob\":\n",
    "    print(\"Hello Jabcob!\")\n",
    "else:\n",
    "    print(\"Hello {}!\".format(name))"
   ]
  },
  {
   "cell_type": "code",
   "execution_count": 23,
   "id": "1d75acac",
   "metadata": {},
   "outputs": [
    {
     "name": "stdout",
     "output_type": "stream",
     "text": [
      "**************************************************\n",
      "\t\tCoding Temple, Inc.\n",
      "\t\t238 Franklin St.\n",
      "\t\tBoston, MA\n",
      "==================================================\n",
      "\t\tProduct Name\t\tProduct Price\n",
      "\t\tBooks\t\t\t$49.95\n",
      "\t\tComputer\t\t$579.99\n",
      "\t\tMonitor\t\t\t$124.89\n",
      "==================================================\n",
      "\t\tTotal\t\t\t$754.83\n",
      "==================================================\n",
      "\n",
      "\tThanks for shopping with us today!\n",
      "\n",
      "**************************************************\n"
     ]
    }
   ],
   "source": [
    "p1_name, p1_price = \"Books\", 49.95\n",
    "p2_name, p2_price = \"Computer\", 579.99\n",
    "p3_name, p3_price = \"Monitor\", 124.89\n",
    "\n",
    "company_name = \"coding temple, inc.\"\n",
    "company_address = \"238 Franklin St.\"\n",
    "company_city = \"Boston, MA\"\n",
    "\n",
    "message = \"Thanks for shopping with us today!\"\n",
    "\n",
    "print(\"*\" * 50)\n",
    "\n",
    "print(\"\\t\\t{}\".format(company_name).title())\n",
    "print(\"\\t\\t{}\".format(company_address))\n",
    "print(\"\\t\\t{}\".format(company_city))\n",
    "\n",
    "print(\"=\" * 50)\n",
    "\n",
    "print(\"\\t\\tProduct Name\\t\\tProduct Price\")\n",
    "\n",
    "print(\"\\t\\t{}\\t\\t\\t${}\".format(p1_name.title(), p1_price))\n",
    "print(\"\\t\\t{}\\t\\t${}\".format(p2_name.title(), p2_price))\n",
    "print(\"\\t\\t{}\\t\\t\\t${}\".format(p3_name.title(), p3_price))\n",
    "\n",
    "print('=' * 50)\n",
    "\n",
    "total = p1_price + p2_price + p3_price\n",
    "print(\"\\t\\tTotal\\t\\t\\t${}\".format(total))\n",
    "\n",
    "print(\"=\" * 50)\n",
    "print(\"\\n\\t{}\\n\".format(message))\n",
    "print(\"*\" * 50)"
   ]
  },
  {
   "cell_type": "code",
   "execution_count": 25,
   "id": "393e511f",
   "metadata": {},
   "outputs": [
    {
     "name": "stdout",
     "output_type": "stream",
     "text": [
      "Would you like to add/ subtract/multiply/divide?subtract\n",
      "You chose subtract\n",
      "Please keep in mind that the order of your numbers matter.\n",
      "What is the first number? 4\n",
      "What is the second number? 5\n",
      "First Number: 4\n",
      "Second Number: 5\n",
      "4.0 - 5.0 = -1.0\n"
     ]
    }
   ],
   "source": [
    "operation = input(\"Would you like to add/ subtract/multiply/divide?\").lower()\n",
    "print(\"You chose {}\".format(operation))\n",
    "\n",
    "if operation == \"subtract\" or operation == \"divide\":\n",
    "    print(\"Please keep in mind that the order of your numbers matter.\")\n",
    "    \n",
    "num1 = input(\"What is the first number? \")\n",
    "num2 = input(\"What is the second number? \")\n",
    "print(\"First Number: {}\".format(num1))\n",
    "print(\"Second Number: {}\".format(num2))\n",
    "\n",
    "try:\n",
    "    num1, num2 = float(num1), float(num2)\n",
    "    if operation == \"add\":\n",
    "        result = num1 + num2\n",
    "        print(\"{} + {} = {}\".format(num1, num2, result))\n",
    "    elif operation == \"subtract\":\n",
    "        result = num1 - num2\n",
    "        print(\"{} - {} = {}\".format(num1, num2, result))\n",
    "    elif operation == \"multiply\":\n",
    "        result = num1 * num2\n",
    "        print(\"{} * {} = {}\".format(num1, num2, result))\n",
    "    elif operation == \"divide\":\n",
    "        result = num1 / num2\n",
    "        print(\"{} / {} = {}\".format(num1, num2, result))\n",
    "    else:\n",
    "        print(\"Sorry, but '{}' is not an option.\".format(operation))\n",
    "except:\n",
    "    print(\"Error: Improper nuber used. Please try agian.\")"
   ]
  },
  {
   "cell_type": "code",
   "execution_count": null,
   "id": "4504adff",
   "metadata": {},
   "outputs": [],
   "source": []
  }
 ],
 "metadata": {
  "kernelspec": {
   "display_name": "Python 3 (ipykernel)",
   "language": "python",
   "name": "python3"
  },
  "language_info": {
   "codemirror_mode": {
    "name": "ipython",
    "version": 3
   },
   "file_extension": ".py",
   "mimetype": "text/x-python",
   "name": "python",
   "nbconvert_exporter": "python",
   "pygments_lexer": "ipython3",
   "version": "3.9.13"
  }
 },
 "nbformat": 4,
 "nbformat_minor": 5
}
